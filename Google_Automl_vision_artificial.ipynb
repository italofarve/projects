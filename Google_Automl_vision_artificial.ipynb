{
  "nbformat": 4,
  "nbformat_minor": 0,
  "metadata": {
    "colab": {
      "name": "Google Automl - vision artificial.ipynb",
      "provenance": [],
      "authorship_tag": "ABX9TyOkE+qyacHvP8JeVDYc6sAC",
      "include_colab_link": true
    },
    "kernelspec": {
      "name": "python3",
      "display_name": "Python 3"
    },
    "language_info": {
      "name": "python"
    }
  },
  "cells": [
    {
      "cell_type": "markdown",
      "metadata": {
        "id": "view-in-github",
        "colab_type": "text"
      },
      "source": [
        "<a href=\"https://colab.research.google.com/github/italofarve/projects/blob/main/Google_Automl_vision_artificial.ipynb\" target=\"_parent\"><img src=\"https://colab.research.google.com/assets/colab-badge.svg\" alt=\"Open In Colab\"/></a>"
      ]
    },
    {
      "cell_type": "code",
      "execution_count": null,
      "metadata": {
        "id": "vvxV53NWK_Sr"
      },
      "outputs": [],
      "source": [
        ""
      ]
    },
    {
      "cell_type": "markdown",
      "source": [
        "# Models with Google AutoML\n",
        "\n",
        "\n",
        "Machine Learning models to classify medical images of pneumonia (bacterial and virical). Final project for AI product Manager\n",
        "\n",
        "## Project Overview\n",
        "\n",
        "The goal is to build a product that helps doctors quickly identify cases of pneumonia in children. You'll want to build a classification system that: \n",
        "\n",
        "- Can help flag serious cases\n",
        "- Quickly identify healthy cases\n",
        "- And, generally, act as a diagnostic aid for doctors\n",
        "\n",
        "As such, this project is designed to test your ability to build a labeled dataset that distinguishes between healthy and pneumonia x-ray images; this can be used by ML engineers later on down the line to build a classification product. \n",
        "\n",
        "Tasks:\n",
        "- Labeling, create a data labeling job using Appen's platform. \n",
        "- Build model using Google AutoML\n",
        "- Write AutoML Modeling report\n",
        "- AI Product Business proposal \n",
        "\n",
        "\n",
        "....\n",
        "\n",
        "\n",
        "\n",
        "\n",
        "After understand the problem and labeling the images I built four models using Google Cloud AutoML with four different variations on a medical imaging dataset. \n",
        "\n",
        "- Binary Classifier with Clean/Balanced Data\n",
        "- Binary Classifier with Clean/Unbalanced Data\n",
        "- Binary Classifier with Dirty/Balanced Data\n",
        "- 3-Class Model Classifier\n",
        "\n",
        "\n",
        "# AutoML Modeling Report\n",
        "\n",
        "\n",
        "\n",
        "You can see the final report for 4 models in pdf here: https://github.com/italofarve/projects/blob/main/automl-modeling-report.pdf\n",
        "\n",
        "\n",
        "\n",
        "\n",
        "![alt text](https://github.com/italofarve/projects/blob/main/Screenshot%202022-06-02%20at%2013.51.14.png?raw=true)\n",
        "\n",
        "\n"
      ],
      "metadata": {
        "id": "MFtq1rFdLONi"
      }
    },
    {
      "cell_type": "markdown",
      "source": [
        "# AI Product Business Proposal\n",
        "\n",
        "\n",
        "The other part of this project was the  AI Product Business Proposal\n",
        "\n",
        "That proposal incluided this considerations:\n",
        "\n",
        "-  The Business Goal, describe what the product is, and how it will provide value to the business. It's important in this section to describe exactly what the product will do and why/how this helps the business. Focus on linking the AI/ML task to business goals such as increasing revenue or customer happiness.\n",
        "\n",
        "- Success Metrics, describe how you'll know whether the product is successful. Think about measurable, predictive, comparable, and benchmarked metrics for business success.\n",
        "\n",
        "- Data, consider how you will acquire the data to train your model, and issues that may arise during data collection. Important considerations include: buying data vs. collecting it, personally identifying information (PII) and data sensitivity, cost, and whether data will be continuously available or acquired in one large batch (and need to be refreshed).\n",
        "\n",
        "- Model, when thinking about how you will build the model, will you use an in-house data science team because none of the out of the box platforms have your use case, or because you want the ability to control a particular aspect of your model? Frequently, when you use an external platform to build and host the model, their terms of service will require you to give them access to your data. Will this be an issue?\n",
        "\n",
        "- Minimum Viable Product (MVP), think about what your product is. What does it look like? Who uses it, and how do they use it? How will you actually build it?\n",
        "\n",
        "- Post-MVP-Deployment, finally, what happens after launch? How do you ensure your product continues to perform well? Who will monitor it, how will they monitor it, and how often?\n",
        "\n",
        "\n",
        "# Feedback received for the AI Product Business Proposal\n",
        "( Program of Manager of AI Products)\n",
        "\n",
        "![alt text](https://github.com/italofarve/projects/blob/main/Screenshot%20feedback%201.png?raw=true)\n",
        "\n",
        "\n",
        "![alt text](https://github.com/italofarve/projects/blob/main/Screenshot%20feedback%202.png?raw=true)\n",
        "\n",
        "\n",
        "\n",
        "# Some screenshots\n",
        "\n",
        "\n",
        "## Understanding the images of pneumonia\n",
        "\n",
        "![alt text](https://github.com/italofarve/projects/blob/main/What-does-Pneumonia-looks-like.jpg?raw=true)\n",
        "\n",
        "\n",
        "## Images\n",
        "\n",
        "![alt text](https://github.com/italofarve/projects/blob/main/Screenshot%20-%20images.png?raw=true)\n",
        "\n",
        "\n",
        "\n",
        "## Screenshot of trained model using Google Auto-Ml\n",
        "\n",
        "![alt text](https://github.com/italofarve/projects/blob/main/Screenshot%203.png?raw=true)"
      ],
      "metadata": {
        "id": "CnLaTxt_PpCG"
      }
    }
  ]
}